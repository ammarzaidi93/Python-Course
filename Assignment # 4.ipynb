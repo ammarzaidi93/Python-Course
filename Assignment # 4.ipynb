{
 "cells": [
  {
   "cell_type": "code",
   "execution_count": 6,
   "metadata": {},
   "outputs": [
    {
     "name": "stdout",
     "output_type": "stream",
     "text": [
      "first_name : Ammar\n",
      "last_name : Zaidi\n",
      "age : 26\n",
      "city : Karachi\n",
      "\n",
      "\n",
      "first_name : Ammar\n",
      "last_name : Zaidi\n",
      "age : 26\n",
      "city : Karachi\n",
      "qualification : Bachelors\n",
      "\n",
      "=====Final Output========\n",
      "\n",
      "first_name : Ammar\n",
      "last_name : Zaidi\n",
      "age : 26\n",
      "city : Karachi\n",
      "qualification : High academic level\n"
     ]
    }
   ],
   "source": [
    "#Question1:\n",
    "\n",
    "person = {\n",
    "    \"first_name\" : \"Ammar\",\n",
    "    \"last_name\" : \"Zaidi\",\n",
    "    \"age\" : \"26\",\n",
    "    \"city\" : \"Karachi\"\n",
    "}\n",
    "for a,b in person.items():\n",
    "    print(a,\":\",b);\n",
    "\n",
    "#adding key value pair of qualification.\n",
    "person[\"qualification\"] = \"Bachelors\"\n",
    "\n",
    "print(\"\\n\");\n",
    "\n",
    "for a,b in person.items():\n",
    "    print(a,\":\",b);\n",
    "    \n",
    "#updating qualification value to high academic level\n",
    "person[\"qualification\"] = \"High academic level\"\n",
    "\n",
    "print(\"\\n=====Final Output========\\n\");\n",
    "\n",
    "for a,b in person.items():\n",
    "    print(a,\":\",b);"
   ]
  },
  {
   "cell_type": "code",
   "execution_count": 14,
   "metadata": {},
   "outputs": [
    {
     "name": "stdout",
     "output_type": "stream",
     "text": [
      "\n",
      " Karachi \n",
      "\n",
      "\t Country : Pakistan\n",
      "\t Population : 40000000\n",
      "\t Fact : City of light turned into city of garbage.\n",
      "\n",
      " Mumbai \n",
      "\n",
      "\t Country : India\n",
      "\t Population : 50000000\n",
      "\t Fact : One of the biggest city of India\n",
      "\n",
      " Los Angeles \n",
      "\n",
      "\t Country : USA\n",
      "\t Population : 60000000\n",
      "\t Fact : Hub of Hollywood\n"
     ]
    }
   ],
   "source": [
    "#Question2:\n",
    "\n",
    "cities = {\n",
    "    \"Karachi\" : {\n",
    "        \"Country\" : \"Pakistan\",\n",
    "        \"Population\" : \"40000000\",\n",
    "        \"Fact\" : \"City of light turned into city of garbage.\"\n",
    "    },\n",
    "    \"Mumbai\" : {\n",
    "        \"Country\" : \"India\",\n",
    "        \"Population\" : \"50000000\",\n",
    "        \"Fact\" : \"One of the biggest city of India\"\n",
    "    },\n",
    "    \"Los Angeles\" : {\n",
    "        \"Country\" : \"USA\",\n",
    "        \"Population\" : \"60000000\",\n",
    "        \"Fact\" : \"Hub of Hollywood\"\n",
    "    }\n",
    "}\n",
    "\n",
    "for a,b in cities.items():\n",
    "    print(\"\\n\",a,\"\\n\");\n",
    "    for c,d in b.items():\n",
    "        print(\"\\t\",c,\":\",d)"
   ]
  },
  {
   "cell_type": "code",
   "execution_count": 19,
   "metadata": {},
   "outputs": [
    {
     "name": "stdout",
     "output_type": "stream",
     "text": [
      "Enter number of tickets: 5\n",
      "Enter age: 1\n",
      "Enter age: 5\n",
      "Enter age: 15\n",
      "Enter age: 15\n",
      "Enter age: 1\n",
      "\n",
      "Your bill is: 40\n"
     ]
    }
   ],
   "source": [
    "#Question3:\n",
    "\n",
    "no_of_tickets = int(input(\"Enter number of tickets: \"));\n",
    "\n",
    "bill = 0;\n",
    "\n",
    "for a in range(0,no_of_tickets):\n",
    "    age = int(input(\"Enter age: \"))\n",
    "    if (age <= 3):\n",
    "        bill+= 0;\n",
    "    if (age > 3 and age <= 12):\n",
    "        bill+= 10\n",
    "    if (age > 12):\n",
    "        bill+= 15\n",
    "\n",
    "print(\"\\nYour bill is:\",bill);\n",
    "    "
   ]
  },
  {
   "cell_type": "code",
   "execution_count": 32,
   "metadata": {},
   "outputs": [
    {
     "name": "stdout",
     "output_type": "stream",
     "text": [
      "One of my favorite books is Count de Monte Cristo\n"
     ]
    }
   ],
   "source": [
    "#Question4:\n",
    "\n",
    "def favorite_book(x = \"Book_none\"):\n",
    "    if(x == \"Book_none\"):\n",
    "        print(\"Please enter value in parameter\");\n",
    "    else:\n",
    "        print(\"One of my favorite books is\",x);\n",
    "\n",
    "favorite_book(\"Count de Monte Cristo\");"
   ]
  },
  {
   "cell_type": "code",
   "execution_count": 34,
   "metadata": {},
   "outputs": [
    {
     "name": "stdout",
     "output_type": "stream",
     "text": [
      "Enter number between 1 and 30: 5\n",
      "Hidden number is greater\n",
      "\n",
      "Enter number between 1 and 30: 15\n",
      "Hidden number is greater\n",
      "\n",
      "Enter number between 1 and 30: 25\n",
      "Hidden number is Smaller\n",
      "\n"
     ]
    }
   ],
   "source": [
    "#Question5:\n",
    "\n",
    "import random\n",
    "a=0\n",
    "rNumber=0\n",
    "while a<3:\n",
    "    rNumber=int(random.randrange(1,30))\n",
    "    userNumber=int(input(\"Enter number between 1 and 30: \"))\n",
    "    a=a+1\n",
    "    if rNumber>userNumber:\n",
    "        print(\"Hidden number is greater\\n\")\n",
    "    elif rNumber<userNumber:\n",
    "        print(\"Hidden number is Smaller\\n\")\n",
    "    else:\n",
    "        print(\"Hidden number is equal\\n\")"
   ]
  },
  {
   "cell_type": "code",
   "execution_count": null,
   "metadata": {},
   "outputs": [],
   "source": []
  }
 ],
 "metadata": {
  "kernelspec": {
   "display_name": "Python 3",
   "language": "python",
   "name": "python3"
  },
  "language_info": {
   "codemirror_mode": {
    "name": "ipython",
    "version": 3
   },
   "file_extension": ".py",
   "mimetype": "text/x-python",
   "name": "python",
   "nbconvert_exporter": "python",
   "pygments_lexer": "ipython3",
   "version": "3.7.4"
  }
 },
 "nbformat": 4,
 "nbformat_minor": 2
}
