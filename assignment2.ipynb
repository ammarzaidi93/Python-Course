{
 "cells": [
  {
   "cell_type": "code",
   "execution_count": 17,
   "metadata": {},
   "outputs": [
    {
     "name": "stdout",
     "output_type": "stream",
     "text": [
      "Enter Maths Marks (*/100): 40\n",
      "Enter english Marks (*/100): 60\n",
      "Enter physics Marks (*/100): 100\n",
      "Enter urdu Marks (*/100): 45\n",
      "Enter islamiat Marks (*/100): 70\n",
      "\n",
      "Total marks:  315 \n",
      "Percentage:  63 % \n",
      "Grade:  B\n"
     ]
    }
   ],
   "source": [
    "#program which takes 5 inputs from user for different subject’s\n",
    "#marks, total it and generate mark sheet using grades\n",
    "\n",
    "maths = int(input(\"Enter Maths Marks (*/100): \"));\n",
    "english = int(input(\"Enter english Marks (*/100): \"));\n",
    "physics = int(input(\"Enter physics Marks (*/100): \"));\n",
    "urdu = int(input(\"Enter urdu Marks (*/100): \"));\n",
    "islamiat = int(input(\"Enter islamiat Marks (*/100): \"));\n",
    "\n",
    "if maths > 100 or english > 100 or physics > 100 or urdu > 100 or islamiat > 100:\n",
    "    print(\"\\nPlease Input Marks Under 100!!!\")\n",
    "else:\n",
    "    total = maths + english + physics + urdu + islamiat\n",
    "    percentage = int(total / 500 * 100);\n",
    "    if percentage >= 80 and percentage <= 100:\n",
    "        grade = \"A+\";\n",
    "    elif percentage >= 70 and percentage < 80:\n",
    "        grade = \"A\";\n",
    "    elif percentage >= 60 and percentage < 70:\n",
    "        grade = \"B\";\n",
    "    elif percentage >= 50 and percentage < 60:\n",
    "        grade = \"C\";\n",
    "    elif percentage >= 40 and percentage < 50:\n",
    "        grade = \"F\";\n",
    "    print(\"\\nTotal marks: \", total , \"\\nPercentage: \", percentage,\"%\" , \"\\nGrade: \", grade);"
   ]
  },
  {
   "cell_type": "code",
   "execution_count": 20,
   "metadata": {},
   "outputs": [
    {
     "name": "stdout",
     "output_type": "stream",
     "text": [
      "Enter any number: 5\n",
      "Number is odd.\n"
     ]
    }
   ],
   "source": [
    "#program which take input from user and identify that the given\n",
    "#number is even or odd\n",
    "\n",
    "number = int(input(\"Enter any number: \"));\n",
    "oddeven = number % 2;\n",
    "if oddeven == 0:\n",
    "    print(\"Number is even.\");\n",
    "else:\n",
    "    print(\"Number is odd.\");"
   ]
  },
  {
   "cell_type": "code",
   "execution_count": 29,
   "metadata": {},
   "outputs": [
    {
     "name": "stdout",
     "output_type": "stream",
     "text": [
      "Length of list1 is: 10\n"
     ]
    }
   ],
   "source": [
    "#program which print the length of the list\n",
    "\n",
    "list1 = [1,2,3,4,5,6,7,8,9,0,];\n",
    "\n",
    "print(\"Length of list1 is:\",len(list1));"
   ]
  },
  {
   "cell_type": "code",
   "execution_count": 38,
   "metadata": {},
   "outputs": [
    {
     "name": "stdout",
     "output_type": "stream",
     "text": [
      "45\n"
     ]
    }
   ],
   "source": [
    "#program to sum all the numeric items in a list\n",
    "list2 = [1,2,3,4,5,6,7,8,9,0,];\n",
    "print(sum(list2));"
   ]
  },
  {
   "cell_type": "code",
   "execution_count": 34,
   "metadata": {},
   "outputs": [
    {
     "name": "stdout",
     "output_type": "stream",
     "text": [
      "Largest number: 45\n"
     ]
    }
   ],
   "source": [
    "#program to get the largest number from a numeric list.\n",
    "\n",
    "list3 = [1,2,3,4,5,45,7,8,9,0]\n",
    "\n",
    "large = 0;\n",
    "\n",
    "for a in list3:\n",
    "    if a > large:\n",
    "        large = a;\n",
    "\n",
    "print(\"Largest number:\",large);"
   ]
  },
  {
   "cell_type": "code",
   "execution_count": 37,
   "metadata": {},
   "outputs": [
    {
     "name": "stdout",
     "output_type": "stream",
     "text": [
      "Numbers less than 5 in list: \n",
      "1\n",
      "1\n",
      "2\n",
      "3\n"
     ]
    }
   ],
   "source": [
    "#a program that prints out all the elements of the list that are less than 5.\n",
    "\n",
    "list4 = [1, 1, 2, 3, 5, 8, 13, 21, 34, 55, 89];\n",
    "\n",
    "print(\"Numbers less than 5 in list: \")\n",
    "for a in list4:\n",
    "    if a < 5:\n",
    "        print(a);"
   ]
  },
  {
   "cell_type": "code",
   "execution_count": null,
   "metadata": {},
   "outputs": [],
   "source": []
  }
 ],
 "metadata": {
  "kernelspec": {
   "display_name": "Python 3",
   "language": "python",
   "name": "python3"
  },
  "language_info": {
   "codemirror_mode": {
    "name": "ipython",
    "version": 3
   },
   "file_extension": ".py",
   "mimetype": "text/x-python",
   "name": "python",
   "nbconvert_exporter": "python",
   "pygments_lexer": "ipython3",
   "version": "3.7.4"
  }
 },
 "nbformat": 4,
 "nbformat_minor": 2
}
