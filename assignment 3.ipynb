{
 "cells": [
  {
   "cell_type": "code",
   "execution_count": 5,
   "metadata": {},
   "outputs": [
    {
     "name": "stdout",
     "output_type": "stream",
     "text": [
      "Enter First Value: 1\n",
      "Enter Operator(+ - * / ^) +\n",
      "Enter Second Value: 2\n",
      "\n",
      "Result: 3\n"
     ]
    }
   ],
   "source": [
    "#calculator using Python with addition , subtraction , multiplication , division and power.\n",
    "\n",
    "val1 = int(input('Enter First Value: '))\n",
    "opr = input('Enter Operator(+ - * / ^) ')\n",
    "val2 = int(input('Enter Second Value: '))\n",
    "\n",
    "if opr == '+':\n",
    "    print(\"\\nResult:\",val1 + val2)\n",
    "if opr == '-':\n",
    "    print(\"\\nResult:\",val1 - val2)\n",
    "if opr == '*':\n",
    "    print(\"\\nResult:\",val1 * val2)\n",
    "if opr == '/':\n",
    "    print(\"\\nResult:\",float(val1 / val2))\n",
    "if opr == '^':\n",
    "    print(\"\\nResult:\",val1 ** val2)"
   ]
  },
  {
   "cell_type": "code",
   "execution_count": 10,
   "metadata": {},
   "outputs": [
    {
     "name": "stdout",
     "output_type": "stream",
     "text": [
      "Yes, There is a numeric value in list\n"
     ]
    }
   ],
   "source": [
    "#program to check if there is any numeric value in list using for loop\n",
    "\n",
    "list = [\"Abc\",54,69,\"Hello World!\",7]\n",
    "for a in list:\n",
    "    if type(a) == int:\n",
    "        msg = \"Yes, There is a numeric value in list\"\n",
    "    else:\n",
    "        msg = \"No, There is no numeric value in list\"\n",
    "print(msg)"
   ]
  },
  {
   "cell_type": "code",
   "execution_count": 11,
   "metadata": {},
   "outputs": [
    {
     "name": "stdout",
     "output_type": "stream",
     "text": [
      "Before adding key: {'key 1': 'value 1', 'key 2': 'value 2', 'key 3': 'value 3'}\n",
      "\n",
      "Enter name of key you want to add: name\n",
      "Enter new key value: no\n",
      "\n",
      "After adding key: {'key 1': 'value 1', 'key 2': 'value 2', 'key 3': 'value 3', 'name': 'no'}\n"
     ]
    }
   ],
   "source": [
    "#Python script to add a key to a dictionary\n",
    "\n",
    "dictionary = {\n",
    "    \"key 1\" : \"value 1\",\n",
    "    \"key 2\" : \"value 2\",\n",
    "    \"key 3\" : \"value 3\",\n",
    "}\n",
    "print(\"Before adding key:\",dictionary)\n",
    "newkey = input(\"\\nEnter name of key you want to add: \")\n",
    "newvalue = input(\"Enter new key value: \")\n",
    "dictionary[newkey] = newvalue\n",
    "print(\"\\nAfter adding key:\",dictionary)"
   ]
  },
  {
   "cell_type": "code",
   "execution_count": 12,
   "metadata": {},
   "outputs": [
    {
     "name": "stdout",
     "output_type": "stream",
     "text": [
      "Total: 9\n"
     ]
    }
   ],
   "source": [
    "#Python program to sum all the numeric items in a dictionary\n",
    "\n",
    "dictionary2 = {\n",
    "    1 : 'one',\n",
    "    'two' : 2,\n",
    "    3 : 3\n",
    "}\n",
    "total = 0\n",
    "for b,c in dictionary2.items():\n",
    "    if type(b) == int:\n",
    "        total = total + b;\n",
    "    \n",
    "    if type(c) == int:\n",
    "        total = total + c;\n",
    "\n",
    "print(\"Total:\",total)"
   ]
  },
  {
   "cell_type": "code",
   "execution_count": 33,
   "metadata": {},
   "outputs": [
    {
     "name": "stdout",
     "output_type": "stream",
     "text": [
      "['Syed', 'Ammar', 'Ali', 'Zaidi', 'Syed']\n",
      "['Syed']\n"
     ]
    }
   ],
   "source": [
    "#program to identify duplicate values from list\n",
    "\n",
    "listb = [\"Syed\",\"Ammar\",\"Ali\",\"Zaidi\",\"Syed\"]\n",
    "\n",
    "print(listb)\n",
    " \n",
    "new_list = sorted(set(listb))\n",
    "dup_list =[]\n",
    " \n",
    " \n",
    "for i in range(len(new_list)):\n",
    "        if (listb.count(new_list[i]) > 1 ):\n",
    "            dup_list.append(new_list[i])\n",
    "        \n",
    "print(dup_list) "
   ]
  },
  {
   "cell_type": "code",
   "execution_count": 7,
   "metadata": {},
   "outputs": [
    {
     "name": "stdout",
     "output_type": "stream",
     "text": [
      "Enter new key name: four\n"
     ]
    }
   ],
   "source": [
    "#Python script to check if a given key already exists in a dictionary\n",
    "dictionary2 = {\n",
    "    'one' : 1,\n",
    "    'two' : 2,\n",
    "    'three' : 3,\n",
    "    'Four' : 4\n",
    "}\n",
    "\n",
    "newkey2 = input(\"Enter new key name: \")\n",
    "for d in dictionary2.keys():\n",
    "    if newkey2 == d:\n",
    "        print(\"Key already exists\")"
   ]
  },
  {
   "cell_type": "code",
   "execution_count": null,
   "metadata": {},
   "outputs": [],
   "source": []
  }
 ],
 "metadata": {
  "kernelspec": {
   "display_name": "Python 3",
   "language": "python",
   "name": "python3"
  },
  "language_info": {
   "codemirror_mode": {
    "name": "ipython",
    "version": 3
   },
   "file_extension": ".py",
   "mimetype": "text/x-python",
   "name": "python",
   "nbconvert_exporter": "python",
   "pygments_lexer": "ipython3",
   "version": "3.7.4"
  }
 },
 "nbformat": 4,
 "nbformat_minor": 2
}
